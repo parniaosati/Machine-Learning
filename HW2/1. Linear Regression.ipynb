{
 "cells": [
  {
   "cell_type": "markdown",
   "id": "16adc323",
   "metadata": {
    "id": "16adc323"
   },
   "source": [
    "<br><font face=\"Times New Roman\" size=5><div dir=ltr align=center>\n",
    "<font color=blue size=8>\n",
    "    Introduction to Machine Learning <br>\n",
    "<font color=red size=5>\n",
    "    Sharif University of Technology - Computer Engineering Department <br>\n",
    "    Fall 2022<br> <br>\n",
    "<font color=black size=6>\n",
    "    Homework 2: Practical - Linear Regression\n",
    "    </div>\n",
    "<br><br>\n",
    "<font size=4>\n",
    "   **Name**: Arshia Dadras <br>\n",
    "   **Student ID**: 99109109 <br> <br>"
   ]
  },
  {
   "cell_type": "markdown",
   "id": "2585264a",
   "metadata": {
    "id": "2585264a"
   },
   "source": [
    "<font face=\"Times New Roman\" size=4><div dir=ltr>\n",
    "# Problem 1: Linear Regression Model (40 + 30 optional points)\n",
    "According to <a href=\"https://github.com/asharifiz/Introduction_to_Machine_Learning/blob/main/Jupyter_Notebooks/Chapter_02_Classical_Models/Linear%20regression.ipynb\"><font face=\"Roboto\">Linear Regression Notebook</font></a>, train a linear regression model on an arbitrary dataset. Explain your chosen dataset and split your data into train and test sets, then predict values for the test set using your trained model. Try to find the best hyperparameters for your model. (Using Lasso Regression, Ridge Regression or Elastic Net and comparing them will have extra optional points)\n",
    "<br> Explain each step of your workflow."
   ]
  },
  {
   "cell_type": "code",
   "execution_count": 1,
   "id": "387d3a07",
   "metadata": {
    "id": "387d3a07"
   },
   "outputs": [],
   "source": [
    "import numpy as np\n",
    "import matplotlib.pyplot as plt\n",
    "from sklearn.linear_model import ElasticNet\n",
    "from sklearn.datasets import make_regression\n",
    "from sklearn.metrics import mean_squared_error"
   ]
  },
  {
   "cell_type": "code",
   "execution_count": 2,
   "id": "gXuwu0cRobdj",
   "metadata": {
    "id": "gXuwu0cRobdj"
   },
   "outputs": [],
   "source": [
    "X, y = make_regression(n_samples=50000, n_features=8, noise=5)\n",
    "y = y[:, np.newaxis]"
   ]
  },
  {
   "cell_type": "code",
   "execution_count": 3,
   "id": "0270920b",
   "metadata": {},
   "outputs": [],
   "source": [
    "def train_test_split(X, y, train_size=0.7):\n",
    "    indexes = np.arange(0, X.shape[0])\n",
    "    np.random.shuffle(indexes)\n",
    "\n",
    "    id = int(train_size * X.shape[0])\n",
    "    train, test = indexes[:id], indexes[id:]\n",
    "\n",
    "    return X[train], y[train], X[test], y[test]"
   ]
  },
  {
   "cell_type": "code",
   "execution_count": 4,
   "id": "6c4647e2",
   "metadata": {},
   "outputs": [],
   "source": [
    "X_train, y_train, X_test, y_test = train_test_split(X, y)"
   ]
  },
  {
   "cell_type": "code",
   "execution_count": 5,
   "id": "QXPOg8f2F-_H",
   "metadata": {
    "colab": {
     "base_uri": "https://localhost:8080/"
    },
    "id": "QXPOg8f2F-_H",
    "outputId": "1a3c58a7-ab4f-4a2d-ff94-bad5f03c61b5"
   },
   "outputs": [],
   "source": [
    "T = 100\n",
    "losses = []\n",
    "l1_ratios = []\n",
    "\n",
    "for i in range(0, T + 1):\n",
    "    parameters = {\n",
    "        \"tol\": 0.05,\n",
    "        \"alpha\": 0.1,\n",
    "        \"max_iter\": 10000,\n",
    "        \"l1_ratio\": i / T,\n",
    "    }\n",
    "    model = ElasticNet(**parameters)\n",
    "\n",
    "    model.fit(X_train, y_train)\n",
    "    y_pred = model.predict(X_test)\n",
    "    \n",
    "    l1_ratios.append(i / T)\n",
    "    losses.append(mean_squared_error(y_test, y_pred))"
   ]
  },
  {
   "cell_type": "code",
   "execution_count": 6,
   "id": "fPg4kHBeJhNC",
   "metadata": {
    "colab": {
     "base_uri": "https://localhost:8080/",
     "height": 279
    },
    "id": "fPg4kHBeJhNC",
    "outputId": "e9ebe9a2-b508-42c7-dd12-2a505de2c6a1"
   },
   "outputs": [
    {
     "data": {
      "image/png": "[encoded data removed]",
      "text/plain": [
       "<Figure size 432x288 with 1 Axes>"
      ]
     },
     "metadata": {
      "needs_background": "light"
     },
     "output_type": "display_data"
    }
   ],
   "source": [
    "plt.plot(l1_ratios, losses)\n",
    "plt.xlabel(\"l1 ratio\")\n",
    "plt.ylabel(\"loss\")\n",
    "plt.tight_layout()"
   ]
  }
 ],
 "metadata": {
  "colab": {
   "provenance": []
  },
  "kernelspec": {
   "display_name": "Python 3 (ipykernel)",
   "language": "python",
   "name": "python3"
  },
  "language_info": {
   "codemirror_mode": {
    "name": "ipython",
    "version": 3
   },
   "file_extension": ".py",
   "mimetype": "text/x-python",
   "name": "python",
   "nbconvert_exporter": "python",
   "pygments_lexer": "ipython3",
   "version": "3.9.13"
  },
  "vscode": {
   "interpreter": {
    "hash": "31f2aee4e71d21fbe5cf8b01ff0e069b9275f58929596ceb00d14d90e3e16cd6"
   }
  }
 },
 "nbformat": 4,
 "nbformat_minor": 5
}
