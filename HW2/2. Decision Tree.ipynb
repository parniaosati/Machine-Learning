{
  "cells": [
    {
      "cell_type": "markdown",
      "id": "6baf2598",
      "metadata": {
        "ExecuteTime": {
          "end_time": "2022-10-22T21:06:33.084910Z",
          "start_time": "2022-10-22T21:06:33.065246Z"
        },
        "id": "6baf2598"
      },
      "source": [
        "<br><font face=\"Times New Roman\" size=5><div dir=ltr align=center>\n",
        "<font color=blue size=8>\n",
        "    Introduction to Machine Learning <br>\n",
        "<font color=red size=5>\n",
        "    Sharif University of Technology - Computer Engineering Department <br>\n",
        "    Fall 2022<br> <br>\n",
        "<font color=black size=6>\n",
        "    Homework 2: Practical - Decision Tree   \n",
        "<font color=black size=4>\n",
        "    Hamidreza Yaghoubi \n",
        "    \n",
        "<br><br>\n",
        "<font size=4>\n",
        "In this homework, we are going to implement the Classification Decision Tree. Keep in mind to complete all of the following questions and write your own codes in the TODO cells."
      ]
    },
    {
      "cell_type": "markdown",
      "id": "bd3871b7",
      "metadata": {
        "id": "bd3871b7"
      },
      "source": [
        "<font face=\"Times New Roman\" size=4><div dir=ltr>\n",
        "# Problem 2: Classification Decision Tree (100 points)\n",
        "We will implement a Classification Decision Tree from scratch in the following problem. Then we will use our model to predict malignant and benign breast cancer. For this purpose, we will use the breast_cancer.csv dataset which you can find more details about it <a href=\"https://www.kaggle.com/datasets/merishnasuwal/breast-cancer-prediction-dataset\"><font face=\"Roboto\">here</font></a>."
      ]
    },
    {
      "cell_type": "code",
      "execution_count": 1,
      "id": "ccdebb27",
      "metadata": {
        "ExecuteTime": {
          "end_time": "2022-10-22T21:30:24.876526Z",
          "start_time": "2022-10-22T21:30:24.439793Z"
        },
        "id": "ccdebb27"
      },
      "outputs": [],
      "source": [
        "import pandas as pd\n",
        "from sklearn.model_selection import train_test_split\n",
        "from sklearn.metrics import accuracy_score\n",
        "from math import log\n",
        "import random"
      ]
    },
    {
      "cell_type": "markdown",
      "id": "e2307c50",
      "metadata": {
        "id": "e2307c50"
      },
      "source": [
        "<font face=\"Times New Roman\" size=4><div dir=ltr>\n",
        "## Classification Decision Tree Class (60 points)\n",
        "In this section, you only need to fill TODO parts. You can find the logic and formula in both course slides and the web, but fill it out on your own. "
      ]
    },
    {
      "cell_type": "code",
      "execution_count": 2,
      "id": "618baebb",
      "metadata": {
        "ExecuteTime": {
          "end_time": "2022-10-22T21:30:25.034364Z",
          "start_time": "2022-10-22T21:30:25.021627Z"
        },
        "id": "618baebb"
      },
      "outputs": [],
      "source": [
        "class Node:\n",
        "    def __init__(self, feature=None, threshold=None, left=None, right=None, value=None):\n",
        "        self.feature = feature\n",
        "        self.threshold = threshold\n",
        "        self.left = left\n",
        "        self.right = right\n",
        "        self.value = value\n",
        "\n",
        "    def is_leaf(self):\n",
        "        if self.value is not None:\n",
        "            return True\n",
        "        return False"
      ]
    },
    {
      "cell_type": "code",
      "execution_count": 3,
      "id": "71b3b483",
      "metadata": {
        "ExecuteTime": {
          "end_time": "2022-10-22T21:30:25.439792Z",
          "start_time": "2022-10-22T21:30:25.404649Z"
        },
        "id": "71b3b483"
      },
      "outputs": [],
      "source": [
        "class DecisionTree:\n",
        "    def __init__(self, max_depth=None, min_samples_split=2):\n",
        "        self.max_depth = max_depth\n",
        "        self.min_samples_split = min_samples_split\n",
        "        self.root = None\n",
        "\n",
        "    def is_splitting_finished(self, depth, num_class_labels, num_samples):\n",
        "        return depth >= self.max_depth or num_class_labels == 1 or num_samples <= self.min_samples_split\n",
        "\n",
        "    def split(self, X, y, feature, threshold):\n",
        "        left_indexes = X[feature] <= threshold\n",
        "        right_indexes = -left_indexes\n",
        "        X_left = X[left_indexes]\n",
        "        y_left = y[left_indexes]\n",
        "        X_right = X[right_indexes]\n",
        "        y_right = y[right_indexes]\n",
        "\n",
        "        return X_left, X_right, y_left, y_right\n",
        "\n",
        "    def entropy(self, y):\n",
        "        if len(y) == 0:\n",
        "            return 0\n",
        "\n",
        "        p = sum(y.diagnosis == 1) / len(y)\n",
        "        if p == 0 or p == 1:\n",
        "            return 0\n",
        "\n",
        "        return -p * log(p, 2) - (1 - p) * log(1 - p, 2)\n",
        "\n",
        "    def information_gain(self, X, y, feature, threshold):\n",
        "        X_left, X_right, y_left, y_right = self.split(X, y, feature, threshold)\n",
        "        p = sum(X[feature] <= threshold) / len(X)\n",
        "\n",
        "        H_y = self.entropy(y)\n",
        "        H_y_given_x = p * self.entropy(y_left) + (1 - p) * self.entropy(y_right)\n",
        "\n",
        "        return H_y - H_y_given_x\n",
        "\n",
        "    def best_split(self, X, y):\n",
        "        features = list(X.columns.values)\n",
        "        random.shuffle(features)\n",
        "\n",
        "        best_feature, best_threshold, best_ig = None, None, None\n",
        "        for feature in features:\n",
        "            thresholds = list(set(list(X[feature])))\n",
        "            for threshold in thresholds:\n",
        "                ig = self.information_gain(X, y, feature, threshold)\n",
        "                if best_feature == None or ig > best_ig:\n",
        "                    best_ig = ig\n",
        "                    best_feature = feature\n",
        "                    best_threshold = threshold\n",
        "            \n",
        "        return best_feature, best_threshold\n",
        "\n",
        "    def build_tree(self, X, y, depth=0):\n",
        "        if self.is_splitting_finished(depth, len(X.columns), len(X)):\n",
        "            return None\n",
        "\n",
        "        best_feature, best_threshold = self.best_split(X, y)\n",
        "        X_left, X_right, y_left, y_right = self.split(X, y, best_feature, best_threshold)\n",
        "\n",
        "        left_node = self.build_tree(X_left, y_left, depth=depth + 1)\n",
        "        right_node = self.build_tree(X_right, y_right, depth=depth + 1)\n",
        "\n",
        "        value = None\n",
        "        if left_node is None or right_node is None:\n",
        "            true_value = len(y[y['diagnosis'] == 1])\n",
        "            false_value = len(y[y['diagnosis'] == 0])\n",
        "            if true_value >= false_value:\n",
        "                value = 1\n",
        "            else:\n",
        "                value = 0\n",
        "\n",
        "        return Node(feature=best_feature, threshold=best_threshold, left=left_node, right=right_node, value=value)\n",
        "\n",
        "    def fit(self, X, y):\n",
        "        self.root = self.build_tree(X, y)\n",
        "\n",
        "    def predict(self, X):\n",
        "        tree = self.root\n",
        "        predicted_value = []\n",
        "        for index in list(X.index):\n",
        "            data = X.loc[index]\n",
        "            current_tree = tree\n",
        "            for depth in range(self.max_depth):\n",
        "                if Node.is_leaf(current_tree):\n",
        "                    predicted_value.append(current_tree.value)\n",
        "                    break\n",
        "                feature = current_tree.feature\n",
        "                threshold = current_tree.threshold\n",
        "                if data[feature] <= threshold:\n",
        "                    current_tree = current_tree.left\n",
        "                if data[feature] > threshold:\n",
        "                    current_tree = current_tree.right\n",
        "\n",
        "        return predicted_value"
      ]
    },
    {
      "cell_type": "markdown",
      "id": "8e2197f0",
      "metadata": {
        "id": "8e2197f0"
      },
      "source": [
        "<font face=\"Times New Roman\" size=4><div dir=ltr>\n",
        "## Data Prepration (20 points)\n",
        "In this section, you must perform a good EDA for data. Then split it into train and validation data. We will then use the validation data to find the best model hyperparameters.  "
      ]
    },
    {
      "cell_type": "code",
      "execution_count": 4,
      "id": "da5a4d94",
      "metadata": {
        "ExecuteTime": {
          "end_time": "2022-10-22T21:30:26.199958Z",
          "start_time": "2022-10-22T21:30:26.192910Z"
        },
        "id": "da5a4d94"
      },
      "outputs": [],
      "source": [
        "breast_cancer_pdf = pd.read_csv(\"breast_cancer.csv\")"
      ]
    },
    {
      "cell_type": "code",
      "execution_count": 5,
      "id": "39ba4c34",
      "metadata": {
        "ExecuteTime": {
          "end_time": "2022-10-22T21:30:38.003703Z",
          "start_time": "2022-10-22T21:30:37.996292Z"
        },
        "id": "39ba4c34"
      },
      "outputs": [],
      "source": [
        "X = breast_cancer_pdf.drop(['diagnosis'], axis=1)\n",
        "y = breast_cancer_pdf[['diagnosis']]\n",
        "\n",
        "x_train, x_val, y_train, y_val = train_test_split(X, y, test_size=0.70, random_state=42)"
      ]
    },
    {
      "cell_type": "markdown",
      "id": "cefd7a92",
      "metadata": {
        "id": "cefd7a92"
      },
      "source": [
        "<font face=\"Times New Roman\" size=4><div dir=ltr>\n",
        "## Training And Tuning Hyperparameters (20 points)\n",
        "In this section, you only need to find the best hyperparameters for your model. You can test different values and permutations of hyperparameters by adding them to the lists below. Your model must have at least accuracy=0.85 on validation data."
      ]
    },
    {
      "cell_type": "code",
      "execution_count": 6,
      "id": "assigned-estate",
      "metadata": {
        "ExecuteTime": {
          "end_time": "2022-10-22T21:36:15.733600Z",
          "start_time": "2022-10-22T21:36:15.730426Z"
        },
        "id": "assigned-estate"
      },
      "outputs": [],
      "source": [
        "max_depths = [i for i in range(1, X.shape[1])]\n",
        "min_samples_splits = [i for i in range(2, 11, 2)]"
      ]
    },
    {
      "cell_type": "code",
      "execution_count": 7,
      "id": "58003410",
      "metadata": {
        "colab": {
          "base_uri": "https://localhost:8080/"
        },
        "id": "58003410",
        "outputId": "7b1d5450-9e49-462a-f3eb-2ea527fb001d"
      },
      "outputs": [
        {
          "output_type": "stream",
          "name": "stdout",
          "text": [
            "accuracy of training set for [min_samples_splits=2 - max_depths=1] = 0.5764705882352941\n",
            "accuracy of validation set for [min_samples_splits=2 - max_depths=1] = 0.6491228070175439\n",
            "------------------------------------------------\n",
            "accuracy of training set for [min_samples_splits=4 - max_depths=1] = 0.5764705882352941\n",
            "accuracy of validation set for [min_samples_splits=4 - max_depths=1] = 0.6491228070175439\n",
            "------------------------------------------------\n",
            "accuracy of training set for [min_samples_splits=6 - max_depths=1] = 0.5764705882352941\n",
            "accuracy of validation set for [min_samples_splits=6 - max_depths=1] = 0.6491228070175439\n",
            "------------------------------------------------\n",
            "accuracy of training set for [min_samples_splits=8 - max_depths=1] = 0.5764705882352941\n",
            "accuracy of validation set for [min_samples_splits=8 - max_depths=1] = 0.6491228070175439\n",
            "------------------------------------------------\n",
            "accuracy of training set for [min_samples_splits=10 - max_depths=1] = 0.5764705882352941\n",
            "accuracy of validation set for [min_samples_splits=10 - max_depths=1] = 0.6491228070175439\n",
            "------------------------------------------------\n",
            "accuracy of training set for [min_samples_splits=2 - max_depths=2] = 0.8705882352941177\n",
            "accuracy of validation set for [min_samples_splits=2 - max_depths=2] = 0.8771929824561403\n",
            "------------------------------------------------\n",
            "accuracy of training set for [min_samples_splits=4 - max_depths=2] = 0.8705882352941177\n",
            "accuracy of validation set for [min_samples_splits=4 - max_depths=2] = 0.8771929824561403\n",
            "------------------------------------------------\n",
            "accuracy of training set for [min_samples_splits=6 - max_depths=2] = 0.8705882352941177\n",
            "accuracy of validation set for [min_samples_splits=6 - max_depths=2] = 0.8771929824561403\n",
            "------------------------------------------------\n",
            "accuracy of training set for [min_samples_splits=8 - max_depths=2] = 0.8705882352941177\n",
            "accuracy of validation set for [min_samples_splits=8 - max_depths=2] = 0.8771929824561403\n",
            "------------------------------------------------\n",
            "accuracy of training set for [min_samples_splits=10 - max_depths=2] = 0.8705882352941177\n",
            "accuracy of validation set for [min_samples_splits=10 - max_depths=2] = 0.8771929824561403\n",
            "------------------------------------------------\n",
            "accuracy of training set for [min_samples_splits=2 - max_depths=3] = 0.8705882352941177\n",
            "accuracy of validation set for [min_samples_splits=2 - max_depths=3] = 0.8771929824561403\n",
            "------------------------------------------------\n",
            "accuracy of training set for [min_samples_splits=4 - max_depths=3] = 0.8705882352941177\n",
            "accuracy of validation set for [min_samples_splits=4 - max_depths=3] = 0.8771929824561403\n",
            "------------------------------------------------\n",
            "accuracy of training set for [min_samples_splits=6 - max_depths=3] = 0.8705882352941177\n",
            "accuracy of validation set for [min_samples_splits=6 - max_depths=3] = 0.8771929824561403\n",
            "------------------------------------------------\n",
            "accuracy of training set for [min_samples_splits=8 - max_depths=3] = 0.8705882352941177\n",
            "accuracy of validation set for [min_samples_splits=8 - max_depths=3] = 0.8771929824561403\n",
            "------------------------------------------------\n",
            "accuracy of training set for [min_samples_splits=10 - max_depths=3] = 0.8705882352941177\n",
            "accuracy of validation set for [min_samples_splits=10 - max_depths=3] = 0.8771929824561403\n",
            "------------------------------------------------\n",
            "accuracy of training set for [min_samples_splits=2 - max_depths=4] = 0.9176470588235294\n",
            "accuracy of validation set for [min_samples_splits=2 - max_depths=4] = 0.8721804511278195\n",
            "------------------------------------------------\n",
            "accuracy of training set for [min_samples_splits=4 - max_depths=4] = 0.9176470588235294\n",
            "accuracy of validation set for [min_samples_splits=4 - max_depths=4] = 0.8721804511278195\n",
            "------------------------------------------------\n",
            "accuracy of training set for [min_samples_splits=6 - max_depths=4] = 0.888235294117647\n",
            "accuracy of validation set for [min_samples_splits=6 - max_depths=4] = 0.8421052631578947\n",
            "------------------------------------------------\n",
            "accuracy of training set for [min_samples_splits=8 - max_depths=4] = 0.888235294117647\n",
            "accuracy of validation set for [min_samples_splits=8 - max_depths=4] = 0.8421052631578947\n",
            "------------------------------------------------\n",
            "accuracy of training set for [min_samples_splits=10 - max_depths=4] = 0.888235294117647\n",
            "accuracy of validation set for [min_samples_splits=10 - max_depths=4] = 0.8421052631578947\n",
            "------------------------------------------------\n"
          ]
        }
      ],
      "source": [
        "best_max_depth = None\n",
        "best_min_samples_split = None\n",
        "best_accuracy = 0\n",
        "best_model = None\n",
        "for max_depth in max_depths:\n",
        "    for min_samples_split in min_samples_splits:\n",
        "        clf = DecisionTree(max_depth, min_samples_split)\n",
        "        clf.fit(x_train, y_train)\n",
        "        y_val_pred = clf.predict(x_val)\n",
        "        y_train_pred = clf.predict(x_train)\n",
        "        accuracy = accuracy_score(y_val_pred, y_val)\n",
        "        train_accuracy = accuracy_score(y_train_pred, y_train)\n",
        "        print(f\"accuracy of training set for [min_samples_splits={min_samples_split} - max_depths={max_depth}] = {train_accuracy}\")\n",
        "        print(f\"accuracy of validation set for [min_samples_splits={min_samples_split} - max_depths={max_depth}] = {accuracy}\")\n",
        "        print(\"------------------------------------------------\")\n",
        "        if accuracy > best_accuracy:\n",
        "            best_accuracy = accuracy\n",
        "            best_max_depth = max_depth\n",
        "            best_min_samples_split = min_samples_split\n",
        "            best_model = clf"
      ]
    },
    {
      "cell_type": "code",
      "source": [
        "print(f\"Best Accuracy: {round(best_accuracy * 100, 2)}%\")\n",
        "print(f\"Best max_depth: {best_max_depth}\")\n",
        "print(f\"Best min_samples_split: {best_min_samples_split}\")"
      ],
      "metadata": {
        "colab": {
          "base_uri": "https://localhost:8080/"
        },
        "id": "7lfkj9l5LY2S",
        "outputId": "f7b4d4b8-4103-435e-e8b1-f1d16386df62"
      },
      "id": "7lfkj9l5LY2S",
      "execution_count": 8,
      "outputs": [
        {
          "output_type": "stream",
          "name": "stdout",
          "text": [
            "Best Accuracy: 87.72%\n",
            "Best max_depth: 2\n",
            "Best min_samples_split: 2\n"
          ]
        }
      ]
    }
  ],
  "metadata": {
    "kernelspec": {
      "display_name": "Python 3 (ipykernel)",
      "language": "python",
      "name": "python3"
    },
    "language_info": {
      "codemirror_mode": {
        "name": "ipython",
        "version": 3
      },
      "file_extension": ".py",
      "mimetype": "text/x-python",
      "name": "python",
      "nbconvert_exporter": "python",
      "pygments_lexer": "ipython3",
      "version": "3.9.7"
    },
    "toc": {
      "base_numbering": 1,
      "nav_menu": {},
      "number_sections": true,
      "sideBar": true,
      "skip_h1_title": false,
      "title_cell": "Table of Contents",
      "title_sidebar": "Contents",
      "toc_cell": false,
      "toc_position": {},
      "toc_section_display": true,
      "toc_window_display": false
    },
    "varInspector": {
      "cols": {
        "lenName": 16,
        "lenType": 16,
        "lenVar": 40
      },
      "kernels_config": {
        "python": {
          "delete_cmd_postfix": "",
          "delete_cmd_prefix": "del ",
          "library": "var_list.py",
          "varRefreshCmd": "print(var_dic_list())"
        },
        "r": {
          "delete_cmd_postfix": ") ",
          "delete_cmd_prefix": "rm(",
          "library": "var_list.r",
          "varRefreshCmd": "cat(var_dic_list()) "
        }
      },
      "types_to_exclude": [
        "module",
        "function",
        "builtin_function_or_method",
        "instance",
        "_Feature"
      ],
      "window_display": false
    },
    "colab": {
      "provenance": [],
      "collapsed_sections": []
    }
  },
  "nbformat": 4,
  "nbformat_minor": 5
}