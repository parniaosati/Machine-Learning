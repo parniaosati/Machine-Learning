{
 "cells": [
  {
   "cell_type": "markdown",
   "metadata": {},
   "source": [
    "<img src='http://www-scf.usc.edu/~ghasemig/images/sharif.png' alt=\"SUT logo\" width=200 height=200 align=left class=\"saturate\" >\n",
    "\n",
    "<br>\n",
    "<font face=\"Times New Roman\">\n",
    "<div dir=ltr align=center>\n",
    "<font color=0F5298 size=7>\n",
    "    Introduction to Machine Learning <br>\n",
    "<font color=2565AE size=5>\n",
    "    Computer Engineering Department <br>\n",
    "    Fall 2022<br>\n",
    "<font color=3C99D size=5>\n",
    "    Homework 4: Practical - Convolutional Neural Networks <br>\n",
    "<font color=696880 size=4>\n",
    "    Arian Amani\n",
    "    \n",
    "    \n",
    "____\n"
   ]
  },
  {
   "cell_type": "markdown",
   "metadata": {},
   "source": [
    "### Full Name : Arshia Dadras\n",
    "### Student Number : 99109109\n",
    "___"
   ]
  },
  {
   "cell_type": "markdown",
   "metadata": {},
   "source": [
    "# Problem\n",
    "This assignment uses PyTorch to build and implement a residual CNN for solving a classification problem. Our goal is to classify handwritten digits from 0 to 9 on the MNIST dataset. You can try larger and more fun datasets if you have access to Google Colab. (for example: [facial emotion detection](https://www.kaggle.com/datasets/msambare/fer2013))\n",
    "\n",
    "* It is highly recommended to run this notebook on Google Colab so that you can utilize its GPU.\n",
    "* If you need to change the inputs of functions you are implementing, or want to add new cells or functions, feel free to do so."
   ]
  },
  {
   "cell_type": "markdown",
   "metadata": {
    "id": "W0bGV8AXO3Yx"
   },
   "source": [
    "# Setup"
   ]
  },
  {
   "cell_type": "code",
   "execution_count": 1,
   "metadata": {
    "id": "CdrZr6HWO2p8"
   },
   "outputs": [],
   "source": [
    "import torch\n",
    "from torch import nn\n",
    "from torch.nn import functional as F\n",
    "from torch.utils.data import Dataset, DataLoader, random_split\n",
    "from torchvision import transforms, datasets\n",
    "\n",
    "from tqdm import tqdm\n",
    "import numpy as np\n",
    "import pandas as pd\n",
    "import matplotlib.pyplot as plt\n",
    "\n",
    "plt.style.use('ggplot')\n",
    "###########################################################\n",
    "##  If you need any other packages, import them below    ##\n",
    "###########################################################\n",
    "\n",
    "from sklearn.metrics import confusion_matrix, f1_score, accuracy_score\n",
    "import seaborn as sns"
   ]
  },
  {
   "cell_type": "code",
   "execution_count": 2,
   "metadata": {},
   "outputs": [
    {
     "data": {
      "text/plain": [
       "device(type='cpu')"
      ]
     },
     "execution_count": 2,
     "metadata": {},
     "output_type": "execute_result"
    }
   ],
   "source": [
    "device = torch.device('cuda' if torch.cuda.is_available() else 'cpu')\n",
    "device"
   ]
  },
  {
   "cell_type": "markdown",
   "metadata": {
    "id": "gzydGC2SNuAu"
   },
   "source": [
    "# Prepare The Data (10 Points)"
   ]
  },
  {
   "cell_type": "markdown",
   "metadata": {},
   "source": [
    "Write a composed transformation to transform our dataset's PIL images to tensors and normalize them with ```mean: 0.1307``` and ```std: 0.3081```: "
   ]
  },
  {
   "cell_type": "markdown",
   "metadata": {},
   "source": [
    "<details>\n",
    "<summary>Hint</summary>\n",
    "<br>\n",
    "<a href=\"https://pytorch.org/vision/stable/generated/torchvision.transforms.Compose.html\">torchvision.transforms.Compose</a>\n",
    "</details>"
   ]
  },
  {
   "cell_type": "code",
   "execution_count": 3,
   "metadata": {},
   "outputs": [],
   "source": [
    "###############################################################\n",
    "##                Compose your transformations               ##\n",
    "###############################################################\n",
    "transformation = transforms.Compose([\n",
    "    transforms.ToTensor(),\n",
    "    transforms.Normalize(.1307, .3081)\n",
    "])"
   ]
  },
  {
   "cell_type": "markdown",
   "metadata": {
    "id": "ANdYnd04N0ze"
   },
   "source": [
    "Split the downloaded MNIST dataset into two dataloaders ```train``` & ```val```"
   ]
  },
  {
   "cell_type": "code",
   "execution_count": 4,
   "metadata": {},
   "outputs": [
    {
     "name": "stdout",
     "output_type": "stream",
     "text": [
      "60000\n"
     ]
    }
   ],
   "source": [
    "# Download the MNIST dataset\n",
    "mnist_data = datasets.MNIST(root='data/', download=True, transform=transformation)\n",
    "\n",
    "# Number of images in the dataset: 60,000\n",
    "print(len(mnist_data))\n",
    "\n",
    "# Split the dataset into training and validation sets\n",
    "train_data, valid_data = random_split(mnist_data, [50000, 10000]) "
   ]
  },
  {
   "cell_type": "markdown",
   "metadata": {},
   "source": [
    "Create dataloaders for your train and validation data with ```batch size 16``` and ```shuffle = True``` for train loader."
   ]
  },
  {
   "cell_type": "markdown",
   "metadata": {},
   "source": [
    "<details>\n",
    "<summary>Hint</summary>\n",
    "<br>\n",
    "<a href=\"https://pytorch.org/tutorials/beginner/basics/data_tutorial.html\">DATASETS & DATALOADERS</a>\n",
    "</details>"
   ]
  },
  {
   "cell_type": "code",
   "execution_count": 5,
   "metadata": {
    "id": "4CEUTGaFQI51"
   },
   "outputs": [],
   "source": [
    "###############################################################\n",
    "##           Load the datasets into train/valid              ##\n",
    "##                       dataloaders                         ##\n",
    "###############################################################\n",
    "\n",
    "train_loader = DataLoader(train_data, batch_size=16, shuffle=True)\n",
    "val_loader = DataLoader(valid_data, batch_size=16, shuffle=True)"
   ]
  },
  {
   "cell_type": "markdown",
   "metadata": {
    "id": "HF_40_3rQ5Uv"
   },
   "source": [
    "# Define Model (40 Points)"
   ]
  },
  {
   "cell_type": "markdown",
   "metadata": {},
   "source": [
    "### You need to implement a model with the architecture below:\n",
    "[Input: (BS, 1, 28, 28)] -- > [Conv2D (BS, 16, 28, 28)] --> ReLU --> [MaxPool2D (BS, 16, 14, 14): Residual1]\n",
    "\n",
    "--> [Conv2D (BS, 16, 14, 14)] --> ReLU --> [Conv2D (BS, 16, 14, 14)] --> ReLU --> [Addition with Residual1]\n",
    "\n",
    "--> [MaxPool2D (BS, 16, 7, 7)] --> [Conv2D (BS, 64, 7, 7)] --> [ReLU: Residual2]\n",
    "\n",
    "--> [Conv2D (BS, 64, 7, 7)] --> ReLU --> [Conv2D (BS, 64, 7, 7)] --> ReLU --> [Addition with Residual2]\n",
    "\n",
    "--> [GlobalAveragePooling (BS, 64, 1, 1)] --> [Flatten (BS, 64)] --> [Linear (BS, 10)] --> ReLU --> OUT\n",
    "\n",
    "Here you can see the drawn schematic of the architecture, too: [Link](https://drive.google.com/file/d/1gQzafyxTkuvQr8T-xUncLmedX94LnY_l/view?usp=share_link)"
   ]
  },
  {
   "cell_type": "markdown",
   "metadata": {},
   "source": [
    "<details>\n",
    "<summary>Hint</summary>\n",
    "<br>\n",
    "These might be helpful:\n",
    "<br>\n",
    "<a href=\"https://pytorch.org/docs/stable/generated/torch.clone.html\">TORCH.CLONE</a>\n",
    "<br><br>\n",
    "<a href=\"https://pytorch.org/docs/master/generated/torch.nn.AdaptiveAvgPool2d.html#torch.nn.AdaptiveAvgPool2d\">AdaptiveAvgPool2d</a> with output size (1, 1) for global average pooling\n",
    "<br><br>\n",
    "<a href=\"https://arxiv.org/pdf/1512.03385.pdf\">Deep Residual Learning for Image Recognition</a>\n",
    "</details>"
   ]
  },
  {
   "cell_type": "code",
   "execution_count": 6,
   "metadata": {
    "id": "jQfGVj2rQ90G"
   },
   "outputs": [],
   "source": [
    "#####################################\n",
    "##        Define your model        ##\n",
    "##            Your Code            ##\n",
    "#####################################\n",
    "\n",
    "class ConvBlock(nn.Module):\n",
    "    def __init__(self, in_size, out_size):\n",
    "        super().__init__()\n",
    "        self.conv = nn.Conv2d(in_size, out_size, 3, padding=1)\n",
    "        self.batchnorm = nn.BatchNorm2d(out_size)\n",
    "        \n",
    "    def forward(self, x):\n",
    "        return F.relu(self.batchnorm(self.conv(x)))\n",
    "    \n",
    "    \n",
    "class ResidualBlock(nn.Module):\n",
    "    def __init__(self, in_size, hidden_size, out_size):\n",
    "        super().__init__()\n",
    "        self.convblock1 = ConvBlock(in_size, hidden_size)\n",
    "        self.convblock2 = ConvBlock(hidden_size, out_size)\n",
    "        \n",
    "    def forward(self, x):\n",
    "        return x + self.convblock2(self.convblock1(x))\n",
    "    \n",
    "        \n",
    "class ResidualClassifier(nn.Module):\n",
    "    def __init__(self):\n",
    "        super().__init__()\n",
    "        self.network = nn.Sequential(\n",
    "            ConvBlock(1, 16),\n",
    "            nn.MaxPool2d(2),\n",
    "            ResidualBlock(16, 16, 16),\n",
    "            nn.MaxPool2d(2),\n",
    "            ConvBlock(16, 64),\n",
    "            ResidualBlock(64, 64, 64),\n",
    "            nn.AdaptiveAvgPool2d(1),\n",
    "            nn.Flatten(),\n",
    "            nn.Linear(64, 10),\n",
    "        )\n",
    "        \n",
    "    def forward(self, x):\n",
    "        return F.log_softmax(self.network(x), dim=1)"
   ]
  },
  {
   "cell_type": "markdown",
   "metadata": {
    "id": "1jZeKXV9Rbq3"
   },
   "source": [
    "# Train Model (30 Points)"
   ]
  },
  {
   "cell_type": "code",
   "execution_count": 7,
   "metadata": {
    "id": "koMk0TkKRazn"
   },
   "outputs": [],
   "source": [
    "######################################################################\n",
    "##        Instantiate model, define hyper parameters, optimizer,    ##\n",
    "##        loss function and etc                                     ##\n",
    "######################################################################\n",
    "\n",
    "model = ResidualClassifier().to(device)\n",
    "criterion = nn.NLLLoss()\n",
    "optimizer = torch.optim.Adam(model.parameters())"
   ]
  },
  {
   "cell_type": "code",
   "execution_count": 8,
   "metadata": {},
   "outputs": [
    {
     "name": "stdout",
     "output_type": "stream",
     "text": [
      "Epoch:  1/20 - Batch:  250/3125 - Training Loss: 0.2621\n",
      "Epoch:  1/20 - Batch:  500/3125 - Training Loss: 0.2769\n",
      "Epoch:  1/20 - Batch:  750/3125 - Training Loss: 0.5233\n",
      "Epoch:  1/20 - Batch: 1000/3125 - Training Loss: 0.0744\n",
      "Epoch:  1/20 - Batch: 1250/3125 - Training Loss: 0.2150\n",
      "Epoch:  1/20 - Batch: 1500/3125 - Training Loss: 0.0311\n",
      "Epoch:  1/20 - Batch: 1750/3125 - Training Loss: 0.0339\n",
      "Epoch:  1/20 - Batch: 2000/3125 - Training Loss: 0.1747\n",
      "Epoch:  1/20 - Batch: 2250/3125 - Training Loss: 0.0616\n",
      "Epoch:  1/20 - Batch: 2500/3125 - Training Loss: 0.0149\n",
      "Epoch:  1/20 - Batch: 2750/3125 - Training Loss: 0.0732\n",
      "Epoch:  1/20 - Batch: 3000/3125 - Training Loss: 0.1164\n",
      "- - - - - - - - - - - - - - - - - - - - - - - - - - - - \n",
      "                     [Epoch  1/20]\n",
      "      Train Loss: 0.1778 - Train Accuracy: 95.65%\n",
      " Validation Loss: 0.0634 - Validation Accuracy: 98.19%\n",
      "- - - - - - - - - - - - - - - - - - - - - - - - - - - - \n",
      "Epoch:  2/20 - Batch:  250/3125 - Training Loss: 0.0359\n",
      "Epoch:  2/20 - Batch:  500/3125 - Training Loss: 0.0207\n",
      "Epoch:  2/20 - Batch:  750/3125 - Training Loss: 0.1137\n",
      "Epoch:  2/20 - Batch: 1000/3125 - Training Loss: 0.0191\n",
      "Epoch:  2/20 - Batch: 1250/3125 - Training Loss: 0.0540\n",
      "Epoch:  2/20 - Batch: 1500/3125 - Training Loss: 0.0029\n",
      "Epoch:  2/20 - Batch: 1750/3125 - Training Loss: 0.0489\n",
      "Epoch:  2/20 - Batch: 2000/3125 - Training Loss: 0.0296\n",
      "Epoch:  2/20 - Batch: 2250/3125 - Training Loss: 0.0540\n",
      "Epoch:  2/20 - Batch: 2500/3125 - Training Loss: 0.0154\n",
      "Epoch:  2/20 - Batch: 2750/3125 - Training Loss: 0.0980\n",
      "Epoch:  2/20 - Batch: 3000/3125 - Training Loss: 0.0023\n",
      "- - - - - - - - - - - - - - - - - - - - - - - - - - - - \n",
      "                     [Epoch  2/20]\n",
      "      Train Loss: 0.0579 - Train Accuracy: 98.24%\n",
      " Validation Loss: 0.0683 - Validation Accuracy: 98.01%\n",
      "- - - - - - - - - - - - - - - - - - - - - - - - - - - - \n",
      "Epoch:  3/20 - Batch:  250/3125 - Training Loss: 0.0081\n",
      "Epoch:  3/20 - Batch:  500/3125 - Training Loss: 0.0050\n",
      "Epoch:  3/20 - Batch:  750/3125 - Training Loss: 0.0107\n",
      "Epoch:  3/20 - Batch: 1000/3125 - Training Loss: 0.0801\n",
      "Epoch:  3/20 - Batch: 1250/3125 - Training Loss: 0.0112\n",
      "Epoch:  3/20 - Batch: 1500/3125 - Training Loss: 0.0133\n",
      "Epoch:  3/20 - Batch: 1750/3125 - Training Loss: 0.0022\n",
      "Epoch:  3/20 - Batch: 2000/3125 - Training Loss: 0.0014\n",
      "Epoch:  3/20 - Batch: 2250/3125 - Training Loss: 0.0049\n",
      "Epoch:  3/20 - Batch: 2500/3125 - Training Loss: 0.0014\n",
      "Epoch:  3/20 - Batch: 2750/3125 - Training Loss: 0.0012\n",
      "Epoch:  3/20 - Batch: 3000/3125 - Training Loss: 0.0008\n",
      "- - - - - - - - - - - - - - - - - - - - - - - - - - - - \n",
      "                     [Epoch  3/20]\n",
      "      Train Loss: 0.0466 - Train Accuracy: 98.54%\n",
      " Validation Loss: 0.0450 - Validation Accuracy: 98.55%\n",
      "- - - - - - - - - - - - - - - - - - - - - - - - - - - - \n",
      "Epoch:  4/20 - Batch:  250/3125 - Training Loss: 0.0048\n",
      "Epoch:  4/20 - Batch:  500/3125 - Training Loss: 0.0022\n",
      "Epoch:  4/20 - Batch:  750/3125 - Training Loss: 0.0023\n",
      "Epoch:  4/20 - Batch: 1000/3125 - Training Loss: 0.0229\n",
      "Epoch:  4/20 - Batch: 1250/3125 - Training Loss: 0.0088\n",
      "Epoch:  4/20 - Batch: 1500/3125 - Training Loss: 0.0009\n",
      "Epoch:  4/20 - Batch: 1750/3125 - Training Loss: 0.0005\n",
      "Epoch:  4/20 - Batch: 2000/3125 - Training Loss: 0.0012\n",
      "Epoch:  4/20 - Batch: 2250/3125 - Training Loss: 0.0015\n",
      "Epoch:  4/20 - Batch: 2500/3125 - Training Loss: 0.0004\n",
      "Epoch:  4/20 - Batch: 2750/3125 - Training Loss: 0.0069\n",
      "Epoch:  4/20 - Batch: 3000/3125 - Training Loss: 0.0066\n",
      "- - - - - - - - - - - - - - - - - - - - - - - - - - - - \n",
      "                     [Epoch  4/20]\n",
      "      Train Loss: 0.0367 - Train Accuracy: 98.82%\n",
      " Validation Loss: 0.0358 - Validation Accuracy: 98.95%\n",
      "- - - - - - - - - - - - - - - - - - - - - - - - - - - - \n",
      "Epoch:  5/20 - Batch:  250/3125 - Training Loss: 0.0244\n",
      "Epoch:  5/20 - Batch:  500/3125 - Training Loss: 0.0070\n",
      "Epoch:  5/20 - Batch:  750/3125 - Training Loss: 0.0151\n",
      "Epoch:  5/20 - Batch: 1000/3125 - Training Loss: 0.0018\n",
      "Epoch:  5/20 - Batch: 1250/3125 - Training Loss: 0.1136\n",
      "Epoch:  5/20 - Batch: 1500/3125 - Training Loss: 0.0031\n",
      "Epoch:  5/20 - Batch: 1750/3125 - Training Loss: 0.0055\n",
      "Epoch:  5/20 - Batch: 2000/3125 - Training Loss: 0.0162\n",
      "Epoch:  5/20 - Batch: 2250/3125 - Training Loss: 0.0125\n",
      "Epoch:  5/20 - Batch: 2500/3125 - Training Loss: 0.1080\n",
      "Epoch:  5/20 - Batch: 2750/3125 - Training Loss: 0.0006\n",
      "Epoch:  5/20 - Batch: 3000/3125 - Training Loss: 0.0003\n",
      "- - - - - - - - - - - - - - - - - - - - - - - - - - - - \n",
      "                     [Epoch  5/20]\n",
      "      Train Loss: 0.0305 - Train Accuracy: 99.04%\n",
      " Validation Loss: 0.0347 - Validation Accuracy: 98.97%\n",
      "- - - - - - - - - - - - - - - - - - - - - - - - - - - - \n",
      "Epoch:  6/20 - Batch:  250/3125 - Training Loss: 0.0018\n",
      "Epoch:  6/20 - Batch:  500/3125 - Training Loss: 0.0004\n",
      "Epoch:  6/20 - Batch:  750/3125 - Training Loss: 0.0115\n",
      "Epoch:  6/20 - Batch: 1000/3125 - Training Loss: 0.0087\n",
      "Epoch:  6/20 - Batch: 1250/3125 - Training Loss: 0.0019\n",
      "Epoch:  6/20 - Batch: 1500/3125 - Training Loss: 0.0703\n",
      "Epoch:  6/20 - Batch: 1750/3125 - Training Loss: 0.0724\n",
      "Epoch:  6/20 - Batch: 2000/3125 - Training Loss: 0.0069\n",
      "Epoch:  6/20 - Batch: 2250/3125 - Training Loss: 0.0006\n",
      "Epoch:  6/20 - Batch: 2500/3125 - Training Loss: 0.0114\n",
      "Epoch:  6/20 - Batch: 2750/3125 - Training Loss: 0.0110\n",
      "Epoch:  6/20 - Batch: 3000/3125 - Training Loss: 0.0180\n",
      "- - - - - - - - - - - - - - - - - - - - - - - - - - - - \n",
      "                     [Epoch  6/20]\n",
      "      Train Loss: 0.0267 - Train Accuracy: 99.17%\n",
      " Validation Loss: 0.0466 - Validation Accuracy: 98.62%\n",
      "- - - - - - - - - - - - - - - - - - - - - - - - - - - - \n",
      "Epoch:  7/20 - Batch:  250/3125 - Training Loss: 0.1727\n",
      "Epoch:  7/20 - Batch:  500/3125 - Training Loss: 0.0016\n",
      "Epoch:  7/20 - Batch:  750/3125 - Training Loss: 0.0008\n",
      "Epoch:  7/20 - Batch: 1000/3125 - Training Loss: 0.0004\n",
      "Epoch:  7/20 - Batch: 1250/3125 - Training Loss: 0.0018\n",
      "Epoch:  7/20 - Batch: 1500/3125 - Training Loss: 0.0170\n",
      "Epoch:  7/20 - Batch: 1750/3125 - Training Loss: 0.0003\n",
      "Epoch:  7/20 - Batch: 2000/3125 - Training Loss: 0.0001\n",
      "Epoch:  7/20 - Batch: 2250/3125 - Training Loss: 0.1686\n",
      "Epoch:  7/20 - Batch: 2500/3125 - Training Loss: 0.0013\n",
      "Epoch:  7/20 - Batch: 2750/3125 - Training Loss: 0.0795\n",
      "Epoch:  7/20 - Batch: 3000/3125 - Training Loss: 0.0069\n",
      "- - - - - - - - - - - - - - - - - - - - - - - - - - - - \n",
      "                     [Epoch  7/20]\n",
      "      Train Loss: 0.0221 - Train Accuracy: 99.28%\n",
      " Validation Loss: 0.0304 - Validation Accuracy: 99.14%\n",
      "- - - - - - - - - - - - - - - - - - - - - - - - - - - - \n",
      "Epoch:  8/20 - Batch:  250/3125 - Training Loss: 0.0227\n",
      "Epoch:  8/20 - Batch:  500/3125 - Training Loss: 0.0539\n",
      "Epoch:  8/20 - Batch:  750/3125 - Training Loss: 0.0039\n",
      "Epoch:  8/20 - Batch: 1000/3125 - Training Loss: 0.1279\n",
      "Epoch:  8/20 - Batch: 1250/3125 - Training Loss: 0.0175\n",
      "Epoch:  8/20 - Batch: 1500/3125 - Training Loss: 0.0019\n",
      "Epoch:  8/20 - Batch: 1750/3125 - Training Loss: 0.0026\n",
      "Epoch:  8/20 - Batch: 2000/3125 - Training Loss: 0.0004\n",
      "Epoch:  8/20 - Batch: 2250/3125 - Training Loss: 0.0027\n",
      "Epoch:  8/20 - Batch: 2500/3125 - Training Loss: 0.0131\n",
      "Epoch:  8/20 - Batch: 2750/3125 - Training Loss: 0.0053\n",
      "Epoch:  8/20 - Batch: 3000/3125 - Training Loss: 0.0000\n",
      "- - - - - - - - - - - - - - - - - - - - - - - - - - - - \n",
      "                     [Epoch  8/20]\n",
      "      Train Loss: 0.0204 - Train Accuracy: 99.34%\n",
      " Validation Loss: 0.0308 - Validation Accuracy: 99.16%\n",
      "- - - - - - - - - - - - - - - - - - - - - - - - - - - - \n",
      "Epoch:  9/20 - Batch:  250/3125 - Training Loss: 0.0035\n",
      "Epoch:  9/20 - Batch:  500/3125 - Training Loss: 0.0063\n",
      "Epoch:  9/20 - Batch:  750/3125 - Training Loss: 0.0001\n",
      "Epoch:  9/20 - Batch: 1000/3125 - Training Loss: 0.0004\n",
      "Epoch:  9/20 - Batch: 1250/3125 - Training Loss: 0.0002\n",
      "Epoch:  9/20 - Batch: 1500/3125 - Training Loss: 0.0004\n",
      "Epoch:  9/20 - Batch: 1750/3125 - Training Loss: 0.0009\n",
      "Epoch:  9/20 - Batch: 2000/3125 - Training Loss: 0.0026\n",
      "Epoch:  9/20 - Batch: 2250/3125 - Training Loss: 0.0000\n",
      "Epoch:  9/20 - Batch: 2500/3125 - Training Loss: 0.0006\n",
      "Epoch:  9/20 - Batch: 2750/3125 - Training Loss: 0.0003\n",
      "Epoch:  9/20 - Batch: 3000/3125 - Training Loss: 0.0004\n",
      "- - - - - - - - - - - - - - - - - - - - - - - - - - - - \n",
      "                     [Epoch  9/20]\n",
      "      Train Loss: 0.0194 - Train Accuracy: 99.41%\n",
      " Validation Loss: 0.0405 - Validation Accuracy: 98.90%\n",
      "- - - - - - - - - - - - - - - - - - - - - - - - - - - - \n"
     ]
    },
    {
     "name": "stdout",
     "output_type": "stream",
     "text": [
      "Epoch: 10/20 - Batch:  250/3125 - Training Loss: 0.0001\n",
      "Epoch: 10/20 - Batch:  500/3125 - Training Loss: 0.0021\n",
      "Epoch: 10/20 - Batch:  750/3125 - Training Loss: 0.0003\n",
      "Epoch: 10/20 - Batch: 1000/3125 - Training Loss: 0.0211\n",
      "Epoch: 10/20 - Batch: 1250/3125 - Training Loss: 0.0009\n",
      "Epoch: 10/20 - Batch: 1500/3125 - Training Loss: 0.0048\n",
      "Epoch: 10/20 - Batch: 1750/3125 - Training Loss: 0.2221\n",
      "Epoch: 10/20 - Batch: 2000/3125 - Training Loss: 0.0002\n",
      "Epoch: 10/20 - Batch: 2250/3125 - Training Loss: 0.0009\n",
      "Epoch: 10/20 - Batch: 2500/3125 - Training Loss: 0.0249\n",
      "Epoch: 10/20 - Batch: 2750/3125 - Training Loss: 0.0001\n",
      "Epoch: 10/20 - Batch: 3000/3125 - Training Loss: 0.0016\n",
      "- - - - - - - - - - - - - - - - - - - - - - - - - - - - \n",
      "                     [Epoch 10/20]\n",
      "      Train Loss: 0.0171 - Train Accuracy: 99.45%\n",
      " Validation Loss: 0.0319 - Validation Accuracy: 99.12%\n",
      "- - - - - - - - - - - - - - - - - - - - - - - - - - - - \n",
      "Epoch: 11/20 - Batch:  250/3125 - Training Loss: 0.0025\n",
      "Epoch: 11/20 - Batch:  500/3125 - Training Loss: 0.0000\n",
      "Epoch: 11/20 - Batch:  750/3125 - Training Loss: 0.0003\n",
      "Epoch: 11/20 - Batch: 1000/3125 - Training Loss: 0.0003\n",
      "Epoch: 11/20 - Batch: 1250/3125 - Training Loss: 0.0001\n",
      "Epoch: 11/20 - Batch: 1500/3125 - Training Loss: 0.0041\n",
      "Epoch: 11/20 - Batch: 1750/3125 - Training Loss: 0.0477\n",
      "Epoch: 11/20 - Batch: 2000/3125 - Training Loss: 0.0001\n",
      "Epoch: 11/20 - Batch: 2250/3125 - Training Loss: 0.0008\n",
      "Epoch: 11/20 - Batch: 2500/3125 - Training Loss: 0.0411\n",
      "Epoch: 11/20 - Batch: 2750/3125 - Training Loss: 0.0001\n",
      "Epoch: 11/20 - Batch: 3000/3125 - Training Loss: 0.0129\n",
      "- - - - - - - - - - - - - - - - - - - - - - - - - - - - \n",
      "                     [Epoch 11/20]\n",
      "      Train Loss: 0.0142 - Train Accuracy: 99.54%\n",
      " Validation Loss: 0.0261 - Validation Accuracy: 99.36%\n",
      "- - - - - - - - - - - - - - - - - - - - - - - - - - - - \n",
      "Epoch: 12/20 - Batch:  250/3125 - Training Loss: 0.0002\n",
      "Epoch: 12/20 - Batch:  500/3125 - Training Loss: 0.0001\n",
      "Epoch: 12/20 - Batch:  750/3125 - Training Loss: 0.0235\n",
      "Epoch: 12/20 - Batch: 1000/3125 - Training Loss: 0.0234\n",
      "Epoch: 12/20 - Batch: 1250/3125 - Training Loss: 0.0008\n",
      "Epoch: 12/20 - Batch: 1500/3125 - Training Loss: 0.0003\n",
      "Epoch: 12/20 - Batch: 1750/3125 - Training Loss: 0.0035\n",
      "Epoch: 12/20 - Batch: 2000/3125 - Training Loss: 0.0003\n",
      "Epoch: 12/20 - Batch: 2250/3125 - Training Loss: 0.0002\n",
      "Epoch: 12/20 - Batch: 2500/3125 - Training Loss: 0.0076\n",
      "Epoch: 12/20 - Batch: 2750/3125 - Training Loss: 0.0014\n",
      "Epoch: 12/20 - Batch: 3000/3125 - Training Loss: 0.0005\n",
      "- - - - - - - - - - - - - - - - - - - - - - - - - - - - \n",
      "                     [Epoch 12/20]\n",
      "      Train Loss: 0.0134 - Train Accuracy: 99.57%\n",
      " Validation Loss: 0.0333 - Validation Accuracy: 99.12%\n",
      "- - - - - - - - - - - - - - - - - - - - - - - - - - - - \n",
      "Epoch: 13/20 - Batch:  250/3125 - Training Loss: 0.0008\n",
      "Epoch: 13/20 - Batch:  500/3125 - Training Loss: 0.0003\n",
      "Epoch: 13/20 - Batch:  750/3125 - Training Loss: 0.0015\n",
      "Epoch: 13/20 - Batch: 1000/3125 - Training Loss: 0.0418\n",
      "Epoch: 13/20 - Batch: 1250/3125 - Training Loss: 0.0002\n",
      "Epoch: 13/20 - Batch: 1500/3125 - Training Loss: 0.0003\n",
      "Epoch: 13/20 - Batch: 1750/3125 - Training Loss: 0.0004\n",
      "Epoch: 13/20 - Batch: 2000/3125 - Training Loss: 0.0002\n",
      "Epoch: 13/20 - Batch: 2250/3125 - Training Loss: 0.0034\n",
      "Epoch: 13/20 - Batch: 2500/3125 - Training Loss: 0.1820\n",
      "Epoch: 13/20 - Batch: 2750/3125 - Training Loss: 0.0003\n",
      "Epoch: 13/20 - Batch: 3000/3125 - Training Loss: 0.0027\n",
      "- - - - - - - - - - - - - - - - - - - - - - - - - - - - \n",
      "                     [Epoch 13/20]\n",
      "      Train Loss: 0.0127 - Train Accuracy: 99.57%\n",
      " Validation Loss: 0.0378 - Validation Accuracy: 99.05%\n",
      "- - - - - - - - - - - - - - - - - - - - - - - - - - - - \n",
      "Epoch: 14/20 - Batch:  250/3125 - Training Loss: 0.0001\n",
      "Epoch: 14/20 - Batch:  500/3125 - Training Loss: 0.0011\n",
      "Epoch: 14/20 - Batch:  750/3125 - Training Loss: 0.0010\n",
      "Epoch: 14/20 - Batch: 1000/3125 - Training Loss: 0.0000\n",
      "Epoch: 14/20 - Batch: 1250/3125 - Training Loss: 0.2601\n",
      "Epoch: 14/20 - Batch: 1500/3125 - Training Loss: 0.0002\n",
      "Epoch: 14/20 - Batch: 1750/3125 - Training Loss: 0.0016\n",
      "Epoch: 14/20 - Batch: 2000/3125 - Training Loss: 0.0712\n",
      "Epoch: 14/20 - Batch: 2250/3125 - Training Loss: 0.0019\n",
      "Epoch: 14/20 - Batch: 2500/3125 - Training Loss: 0.0016\n",
      "Epoch: 14/20 - Batch: 2750/3125 - Training Loss: 0.0001\n",
      "Epoch: 14/20 - Batch: 3000/3125 - Training Loss: 0.0001\n",
      "- - - - - - - - - - - - - - - - - - - - - - - - - - - - \n",
      "                     [Epoch 14/20]\n",
      "      Train Loss: 0.0118 - Train Accuracy: 99.59%\n",
      " Validation Loss: 0.0329 - Validation Accuracy: 99.11%\n",
      "- - - - - - - - - - - - - - - - - - - - - - - - - - - - \n",
      "Epoch: 15/20 - Batch:  250/3125 - Training Loss: 0.0006\n",
      "Epoch: 15/20 - Batch:  500/3125 - Training Loss: 0.0001\n",
      "Epoch: 15/20 - Batch:  750/3125 - Training Loss: 0.0000\n",
      "Epoch: 15/20 - Batch: 1000/3125 - Training Loss: 0.0008\n",
      "Epoch: 15/20 - Batch: 1250/3125 - Training Loss: 0.0001\n",
      "Epoch: 15/20 - Batch: 1500/3125 - Training Loss: 0.0002\n",
      "Epoch: 15/20 - Batch: 1750/3125 - Training Loss: 0.0001\n",
      "Epoch: 15/20 - Batch: 2000/3125 - Training Loss: 0.6038\n",
      "Epoch: 15/20 - Batch: 2250/3125 - Training Loss: 0.0002\n",
      "Epoch: 15/20 - Batch: 2500/3125 - Training Loss: 0.0052\n",
      "Epoch: 15/20 - Batch: 2750/3125 - Training Loss: 0.0000\n",
      "Epoch: 15/20 - Batch: 3000/3125 - Training Loss: 0.0000\n",
      "- - - - - - - - - - - - - - - - - - - - - - - - - - - - \n",
      "                     [Epoch 15/20]\n",
      "      Train Loss: 0.0102 - Train Accuracy: 99.67%\n",
      " Validation Loss: 0.0347 - Validation Accuracy: 99.10%\n",
      "- - - - - - - - - - - - - - - - - - - - - - - - - - - - \n",
      "Epoch: 16/20 - Batch:  250/3125 - Training Loss: 0.0001\n",
      "Epoch: 16/20 - Batch:  500/3125 - Training Loss: 0.0001\n",
      "Epoch: 16/20 - Batch:  750/3125 - Training Loss: 0.0015\n",
      "Epoch: 16/20 - Batch: 1000/3125 - Training Loss: 0.0004\n",
      "Epoch: 16/20 - Batch: 1250/3125 - Training Loss: 0.0007\n",
      "Epoch: 16/20 - Batch: 1500/3125 - Training Loss: 0.0023\n",
      "Epoch: 16/20 - Batch: 1750/3125 - Training Loss: 0.0000\n",
      "Epoch: 16/20 - Batch: 2000/3125 - Training Loss: 0.0074\n",
      "Epoch: 16/20 - Batch: 2250/3125 - Training Loss: 0.0009\n",
      "Epoch: 16/20 - Batch: 2500/3125 - Training Loss: 0.0002\n",
      "Epoch: 16/20 - Batch: 2750/3125 - Training Loss: 0.0001\n",
      "Epoch: 16/20 - Batch: 3000/3125 - Training Loss: 0.0000\n",
      "- - - - - - - - - - - - - - - - - - - - - - - - - - - - \n",
      "                     [Epoch 16/20]\n",
      "      Train Loss: 0.0103 - Train Accuracy: 99.67%\n",
      " Validation Loss: 0.0325 - Validation Accuracy: 99.23%\n",
      "- - - - - - - - - - - - - - - - - - - - - - - - - - - - \n",
      "Epoch: 17/20 - Batch:  250/3125 - Training Loss: 0.0022\n",
      "Epoch: 17/20 - Batch:  500/3125 - Training Loss: 0.0000\n",
      "Epoch: 17/20 - Batch:  750/3125 - Training Loss: 0.0000\n",
      "Epoch: 17/20 - Batch: 1000/3125 - Training Loss: 0.0000\n",
      "Epoch: 17/20 - Batch: 1250/3125 - Training Loss: 0.0002\n",
      "Epoch: 17/20 - Batch: 1500/3125 - Training Loss: 0.0001\n",
      "Epoch: 17/20 - Batch: 1750/3125 - Training Loss: 0.0001\n",
      "Epoch: 17/20 - Batch: 2000/3125 - Training Loss: 0.0003\n",
      "Epoch: 17/20 - Batch: 2250/3125 - Training Loss: 0.0006\n",
      "Epoch: 17/20 - Batch: 2500/3125 - Training Loss: 0.1852\n",
      "Epoch: 17/20 - Batch: 2750/3125 - Training Loss: 0.0002\n",
      "Epoch: 17/20 - Batch: 3000/3125 - Training Loss: 0.0001\n",
      "- - - - - - - - - - - - - - - - - - - - - - - - - - - - \n",
      "                     [Epoch 17/20]\n",
      "      Train Loss: 0.0089 - Train Accuracy: 99.70%\n",
      " Validation Loss: 0.0315 - Validation Accuracy: 99.17%\n",
      "- - - - - - - - - - - - - - - - - - - - - - - - - - - - \n",
      "Epoch: 18/20 - Batch:  250/3125 - Training Loss: 0.0003\n",
      "Epoch: 18/20 - Batch:  500/3125 - Training Loss: 0.0182\n",
      "Epoch: 18/20 - Batch:  750/3125 - Training Loss: 0.0001\n",
      "Epoch: 18/20 - Batch: 1000/3125 - Training Loss: 0.0000\n",
      "Epoch: 18/20 - Batch: 1250/3125 - Training Loss: 0.0007\n",
      "Epoch: 18/20 - Batch: 1500/3125 - Training Loss: 0.0001\n",
      "Epoch: 18/20 - Batch: 1750/3125 - Training Loss: 0.0001\n",
      "Epoch: 18/20 - Batch: 2000/3125 - Training Loss: 0.0014\n",
      "Epoch: 18/20 - Batch: 2250/3125 - Training Loss: 0.1251\n",
      "Epoch: 18/20 - Batch: 2500/3125 - Training Loss: 0.0003\n",
      "Epoch: 18/20 - Batch: 2750/3125 - Training Loss: 0.0001\n",
      "Epoch: 18/20 - Batch: 3000/3125 - Training Loss: 0.0015\n",
      "- - - - - - - - - - - - - - - - - - - - - - - - - - - - \n",
      "                     [Epoch 18/20]\n",
      "      Train Loss: 0.0081 - Train Accuracy: 99.72%\n",
      " Validation Loss: 0.0323 - Validation Accuracy: 99.34%\n",
      "- - - - - - - - - - - - - - - - - - - - - - - - - - - - \n"
     ]
    },
    {
     "name": "stdout",
     "output_type": "stream",
     "text": [
      "Epoch: 19/20 - Batch:  250/3125 - Training Loss: 0.0001\n",
      "Epoch: 19/20 - Batch:  500/3125 - Training Loss: 0.0000\n",
      "Epoch: 19/20 - Batch:  750/3125 - Training Loss: 0.0001\n",
      "Epoch: 19/20 - Batch: 1000/3125 - Training Loss: 0.0002\n",
      "Epoch: 19/20 - Batch: 1250/3125 - Training Loss: 0.0005\n",
      "Epoch: 19/20 - Batch: 1500/3125 - Training Loss: 0.0000\n",
      "Epoch: 19/20 - Batch: 1750/3125 - Training Loss: 0.0001\n",
      "Epoch: 19/20 - Batch: 2000/3125 - Training Loss: 0.0009\n",
      "Epoch: 19/20 - Batch: 2250/3125 - Training Loss: 0.0001\n",
      "Epoch: 19/20 - Batch: 2500/3125 - Training Loss: 0.1875\n",
      "Epoch: 19/20 - Batch: 2750/3125 - Training Loss: 0.0006\n",
      "Epoch: 19/20 - Batch: 3000/3125 - Training Loss: 0.0002\n",
      "- - - - - - - - - - - - - - - - - - - - - - - - - - - - \n",
      "                     [Epoch 19/20]\n",
      "      Train Loss: 0.0074 - Train Accuracy: 99.73%\n",
      " Validation Loss: 0.0371 - Validation Accuracy: 99.09%\n",
      "- - - - - - - - - - - - - - - - - - - - - - - - - - - - \n",
      "Epoch: 20/20 - Batch:  250/3125 - Training Loss: 0.0001\n",
      "Epoch: 20/20 - Batch:  500/3125 - Training Loss: 0.0000\n",
      "Epoch: 20/20 - Batch:  750/3125 - Training Loss: 0.0000\n",
      "Epoch: 20/20 - Batch: 1000/3125 - Training Loss: 0.0008\n",
      "Epoch: 20/20 - Batch: 1250/3125 - Training Loss: 0.3581\n",
      "Epoch: 20/20 - Batch: 1500/3125 - Training Loss: 0.0000\n",
      "Epoch: 20/20 - Batch: 1750/3125 - Training Loss: 0.0002\n",
      "Epoch: 20/20 - Batch: 2000/3125 - Training Loss: 0.0033\n",
      "Epoch: 20/20 - Batch: 2250/3125 - Training Loss: 0.0001\n",
      "Epoch: 20/20 - Batch: 2500/3125 - Training Loss: 0.0000\n",
      "Epoch: 20/20 - Batch: 2750/3125 - Training Loss: 0.0002\n",
      "Epoch: 20/20 - Batch: 3000/3125 - Training Loss: 0.0000\n",
      "- - - - - - - - - - - - - - - - - - - - - - - - - - - - \n",
      "                     [Epoch 20/20]\n",
      "      Train Loss: 0.0083 - Train Accuracy: 99.74%\n",
      " Validation Loss: 0.0340 - Validation Accuracy: 99.19%\n",
      "- - - - - - - - - - - - - - - - - - - - - - - - - - - - \n"
     ]
    }
   ],
   "source": [
    "######################################################################\n",
    "##        Train your model (Complete the code below)                ##\n",
    "######################################################################\n",
    "\n",
    "total_step = len(train_loader)\n",
    "num_epochs = 20\n",
    "\n",
    "train_loss, val_loss = [], []\n",
    "train_accuracy, val_accuracy = [], []\n",
    "for epoch in range(num_epochs):\n",
    "    model.train()\n",
    "    total_loss, total_accuracy = 0, 0\n",
    "    for batch, (images, labels) in enumerate(train_loader):\n",
    "        images, labels = images.to(device), labels.to(device)\n",
    "        optimizer.zero_grad()\n",
    "        \n",
    "        output = model(images)\n",
    "        loss = criterion(output, labels)\n",
    "        total_loss += loss.item() * len(output)\n",
    "        \n",
    "        loss.backward()\n",
    "        optimizer.step()\n",
    "        \n",
    "        pred = output.argmax(dim=1, keepdim=True)\n",
    "        total_accuracy += pred.eq(labels.data.view_as(pred)).sum().item()\n",
    "        \n",
    "        if (batch + 1) % 250 == 0:\n",
    "            print(f'Epoch: {epoch+1:2d}/{num_epochs} - Batch: {batch+1:4d}/{len(train_loader)} - Training Loss: {loss.item():.4f}')\n",
    "    print('- ' * 28)\n",
    "    \n",
    "    total_loss /= len(train_loader.dataset)\n",
    "    total_accuracy /= len(train_loader.dataset)\n",
    "    train_loss.append(total_loss)\n",
    "    train_accuracy.append(total_accuracy)\n",
    "    \n",
    "    with torch.no_grad():\n",
    "        model.eval()\n",
    "        total_loss, total_accuracy = 0, 0\n",
    "        for images, labels in val_loader:\n",
    "            images, labels = images.to(device), labels.to(device)\n",
    "            \n",
    "            output = model(images)\n",
    "            total_loss += F.nll_loss(output, labels, reduction='sum')\n",
    "            \n",
    "            pred = output.argmax(dim=1, keepdim=True)\n",
    "            total_accuracy += pred.eq(labels.data.view_as(pred)).sum().item()\n",
    "            \n",
    "        total_loss /= len(val_loader.dataset)\n",
    "        total_accuracy /= len(val_loader.dataset)\n",
    "        val_loss.append(total_loss)\n",
    "        val_accuracy.append(total_accuracy)\n",
    "        \n",
    "        print(' ' * 20, f'[Epoch {epoch+1:2d}/{num_epochs:2d}]')\n",
    "        print(f'      Train Loss: {train_loss[-1]:.4f} - Train Accuracy: {train_accuracy[-1] * 100:.2f}%')\n",
    "        print(f' Validation Loss: {total_loss:.4f} - Validation Accuracy: {total_accuracy * 100:.2f}%')\n",
    "        print('- ' * 28)\n",
    "        \n",
    "    torch.cuda.empty_cache()"
   ]
  },
  {
   "cell_type": "code",
   "execution_count": 9,
   "metadata": {
    "id": "_YSWvcEGSVor"
   },
   "outputs": [
    {
     "data": {
      "image/png": "[encoded data removed]",
      "text/plain": [
       "<Figure size 1512x504 with 2 Axes>"
      ]
     },
     "metadata": {},
     "output_type": "display_data"
    }
   ],
   "source": [
    "##############################################################\n",
    "##          Plot metrics graph for different epochs         ##\n",
    "##                        Your Code                         ##\n",
    "##############################################################\n",
    "\n",
    "plt.subplots(figsize=(21,7))\n",
    "\n",
    "loss = plt.subplot(1, 2, 1)\n",
    "loss.set_title('Loss Plot')\n",
    "loss.set_xlabel('Epochs')\n",
    "loss.set_ylabel('Loss')\n",
    "loss.plot(train_loss)\n",
    "loss.plot(val_loss)\n",
    "loss.legend(['Train loss', 'Validation loss'])\n",
    "\n",
    "accuracay = plt.subplot(1, 2, 2)\n",
    "accuracay.set_title('Accuracy Plot')\n",
    "accuracay.set_xlabel('Epochs')\n",
    "accuracay.set_ylabel('Accuracy')\n",
    "accuracay.plot(train_accuracy)\n",
    "accuracay.plot(val_accuracy)\n",
    "accuracay.legend(['Train accuracy', 'Validation accuracy'])\n",
    "\n",
    "plt.show()"
   ]
  },
  {
   "cell_type": "markdown",
   "metadata": {
    "id": "LzhCrIFkSE1D"
   },
   "source": [
    "# Test Model (20 Points)"
   ]
  },
  {
   "cell_type": "code",
   "execution_count": 10,
   "metadata": {
    "id": "ihixveNISFwE"
   },
   "outputs": [
    {
     "name": "stdout",
     "output_type": "stream",
     "text": [
      "Test F1-score: 0.9927\n",
      "Test Accuracy: 99.27%\n"
     ]
    },
    {
     "data": {
      "image/png": "[encoded data removed]",
      "text/plain": [
       "<Figure size 864x720 with 2 Axes>"
      ]
     },
     "metadata": {},
     "output_type": "display_data"
    }
   ],
   "source": [
    "##################################################\n",
    "##          Test your model on test-set         ##\n",
    "##          and plot confusion matrix           ##\n",
    "##################################################\n",
    "\n",
    "test_data = datasets.MNIST(root='data/', download=True, transform=transformation, train=False)\n",
    "test_loader = DataLoader(test_data, batch_size=len(test_data), shuffle=False)\n",
    "\n",
    "with torch.no_grad():\n",
    "    for images, labels in test_loader:\n",
    "        images, labels = images.to(device), labels.to(device)\n",
    "        pred = model(images).argmax(dim=1, keepdim=True)\n",
    "        \n",
    "        accuracy = accuracy_score(labels, pred)\n",
    "        f1 = f1_score(labels, pred, average='macro')\n",
    "        confusion = confusion_matrix(labels, pred, normalize='true')\n",
    "        \n",
    "        plt.figure(figsize=(12,10))\n",
    "        print(f'Test F1-score: {f1:.4f}')\n",
    "        print(f'Test Accuracy: {accuracy * 100:.2f}%')\n",
    "        \n",
    "        ax = sns.heatmap(confusion * 100, annot=True, fmt='.2f')\n",
    "        ax.xaxis.tick_top()"
   ]
  }
 ],
 "metadata": {
  "colab": {
   "provenance": []
  },
  "kernelspec": {
   "display_name": "Python 3 (ipykernel)",
   "language": "python",
   "name": "python3"
  },
  "language_info": {
   "codemirror_mode": {
    "name": "ipython",
    "version": 3
   },
   "file_extension": ".py",
   "mimetype": "text/x-python",
   "name": "python",
   "nbconvert_exporter": "python",
   "pygments_lexer": "ipython3",
   "version": "3.9.16"
  },
  "varInspector": {
   "cols": {
    "lenName": 16,
    "lenType": 16,
    "lenVar": 40
   },
   "kernels_config": {
    "python": {
     "delete_cmd_postfix": "",
     "delete_cmd_prefix": "del ",
     "library": "var_list.py",
     "varRefreshCmd": "print(var_dic_list())"
    },
    "r": {
     "delete_cmd_postfix": ") ",
     "delete_cmd_prefix": "rm(",
     "library": "var_list.r",
     "varRefreshCmd": "cat(var_dic_list()) "
    }
   },
   "types_to_exclude": [
    "module",
    "function",
    "builtin_function_or_method",
    "instance",
    "_Feature"
   ],
   "window_display": false
  },
  "vscode": {
   "interpreter": {
    "hash": "bb93c294e1388593f3ce88f4c5e050b65c17fc54b955fa171f33a4b9b3d10054"
   }
  }
 },
 "nbformat": 4,
 "nbformat_minor": 1
}
